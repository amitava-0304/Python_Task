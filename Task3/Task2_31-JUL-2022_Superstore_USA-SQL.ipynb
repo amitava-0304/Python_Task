{
 "cells": [
  {
   "cell_type": "code",
   "execution_count": 1,
   "id": "d97d7ec4",
   "metadata": {},
   "outputs": [],
   "source": [
    "import pandas as pd\n",
    "from mysql_database import database"
   ]
  },
  {
   "cell_type": "markdown",
   "id": "3e427c02",
   "metadata": {},
   "source": [
    "# 1. Find out how return that we have recived and with a product id"
   ]
  },
  {
   "cell_type": "code",
   "execution_count": 3,
   "id": "2b1ee6c3",
   "metadata": {},
   "outputs": [
    {
     "name": "stdout",
     "output_type": "stream",
     "text": [
      "MySQL Database connection successful\n"
     ]
    }
   ],
   "source": [
    "from mysql_database import database\n",
    "query='''select `Product Name`,Status,count(*) from orders inner join returns \n",
    "       on orders.`Order ID`=returns.`Order ID` group by `Product Name`'''\n",
    "mydb=database.create_database_connection()\n",
    "results=database.read_query(mydb, query)"
   ]
  },
  {
   "cell_type": "code",
   "execution_count": 4,
   "id": "43942cd4",
   "metadata": {},
   "outputs": [],
   "source": [
    "results_pd=pd.DataFrame(results)"
   ]
  },
  {
   "cell_type": "code",
   "execution_count": 5,
   "id": "afea83db",
   "metadata": {},
   "outputs": [],
   "source": [
    "results_pd.rename(columns = {0:'Product Name',1:'Status',2:'Quantity'}, inplace = True)"
   ]
  },
  {
   "cell_type": "code",
   "execution_count": 6,
   "id": "16ae6c00",
   "metadata": {},
   "outputs": [
    {
     "data": {
      "text/html": [
       "<div>\n",
       "<style scoped>\n",
       "    .dataframe tbody tr th:only-of-type {\n",
       "        vertical-align: middle;\n",
       "    }\n",
       "\n",
       "    .dataframe tbody tr th {\n",
       "        vertical-align: top;\n",
       "    }\n",
       "\n",
       "    .dataframe thead th {\n",
       "        text-align: right;\n",
       "    }\n",
       "</style>\n",
       "<table border=\"1\" class=\"dataframe\">\n",
       "  <thead>\n",
       "    <tr style=\"text-align: right;\">\n",
       "      <th></th>\n",
       "      <th>Product Name</th>\n",
       "      <th>Status</th>\n",
       "      <th>Quantity</th>\n",
       "    </tr>\n",
       "  </thead>\n",
       "  <tbody>\n",
       "    <tr>\n",
       "      <th>0</th>\n",
       "      <td>Dixon My First Ticonderoga Pencil, #2</td>\n",
       "      <td>Returned</td>\n",
       "      <td>1</td>\n",
       "    </tr>\n",
       "    <tr>\n",
       "      <th>1</th>\n",
       "      <td>Avery 493</td>\n",
       "      <td>Returned</td>\n",
       "      <td>1</td>\n",
       "    </tr>\n",
       "    <tr>\n",
       "      <th>2</th>\n",
       "      <td>EcoTones® Memo Sheets</td>\n",
       "      <td>Returned</td>\n",
       "      <td>1</td>\n",
       "    </tr>\n",
       "    <tr>\n",
       "      <th>3</th>\n",
       "      <td>Newell 35</td>\n",
       "      <td>Returned</td>\n",
       "      <td>1</td>\n",
       "    </tr>\n",
       "    <tr>\n",
       "      <th>4</th>\n",
       "      <td>Staples SlimLine Pencil Sharpener</td>\n",
       "      <td>Returned</td>\n",
       "      <td>1</td>\n",
       "    </tr>\n",
       "    <tr>\n",
       "      <th>...</th>\n",
       "      <td>...</td>\n",
       "      <td>...</td>\n",
       "      <td>...</td>\n",
       "    </tr>\n",
       "    <tr>\n",
       "      <th>89</th>\n",
       "      <td>Snap-A-Way® Black Print Carbonless Ruled Speed...</td>\n",
       "      <td>Returned</td>\n",
       "      <td>1</td>\n",
       "    </tr>\n",
       "    <tr>\n",
       "      <th>90</th>\n",
       "      <td>Recycled Steel Personal File for Standard File...</td>\n",
       "      <td>Returned</td>\n",
       "      <td>1</td>\n",
       "    </tr>\n",
       "    <tr>\n",
       "      <th>91</th>\n",
       "      <td>Xerox 1980</td>\n",
       "      <td>Returned</td>\n",
       "      <td>1</td>\n",
       "    </tr>\n",
       "    <tr>\n",
       "      <th>92</th>\n",
       "      <td>TDK 4.7GB DVD+RW</td>\n",
       "      <td>Returned</td>\n",
       "      <td>1</td>\n",
       "    </tr>\n",
       "    <tr>\n",
       "      <th>93</th>\n",
       "      <td>SAFCO Folding Chair Trolley</td>\n",
       "      <td>Returned</td>\n",
       "      <td>1</td>\n",
       "    </tr>\n",
       "  </tbody>\n",
       "</table>\n",
       "<p>94 rows × 3 columns</p>\n",
       "</div>"
      ],
      "text/plain": [
       "                                         Product Name    Status  Quantity\n",
       "0               Dixon My First Ticonderoga Pencil, #2  Returned         1\n",
       "1                                           Avery 493  Returned         1\n",
       "2                               EcoTones® Memo Sheets  Returned         1\n",
       "3                                           Newell 35  Returned         1\n",
       "4                   Staples SlimLine Pencil Sharpener  Returned         1\n",
       "..                                                ...       ...       ...\n",
       "89  Snap-A-Way® Black Print Carbonless Ruled Speed...  Returned         1\n",
       "90  Recycled Steel Personal File for Standard File...  Returned         1\n",
       "91                                         Xerox 1980  Returned         1\n",
       "92                                   TDK 4.7GB DVD+RW  Returned         1\n",
       "93                        SAFCO Folding Chair Trolley  Returned         1\n",
       "\n",
       "[94 rows x 3 columns]"
      ]
     },
     "execution_count": 6,
     "metadata": {},
     "output_type": "execute_result"
    }
   ],
   "source": [
    "results_pd"
   ]
  },
  {
   "cell_type": "markdown",
   "id": "b5c41d13",
   "metadata": {},
   "source": [
    "# 4 . try to join order and return data both in sql"
   ]
  },
  {
   "cell_type": "code",
   "execution_count": 37,
   "id": "2abd71b7",
   "metadata": {},
   "outputs": [
    {
     "name": "stdout",
     "output_type": "stream",
     "text": [
      "MySQL Database connection successful\n"
     ]
    }
   ],
   "source": [
    "from mysql_database import database\n",
    "query='''select distinct users.Region,manager from orders,users where orders.region=users.region'''\n",
    "mydb=database.create_database_connection()\n",
    "results=database.read_query(mydb, query)\n",
    "results_pd=pd.DataFrame(results)"
   ]
  },
  {
   "cell_type": "code",
   "execution_count": 39,
   "id": "d9357588",
   "metadata": {},
   "outputs": [
    {
     "data": {
      "text/html": [
       "<div>\n",
       "<style scoped>\n",
       "    .dataframe tbody tr th:only-of-type {\n",
       "        vertical-align: middle;\n",
       "    }\n",
       "\n",
       "    .dataframe tbody tr th {\n",
       "        vertical-align: top;\n",
       "    }\n",
       "\n",
       "    .dataframe thead th {\n",
       "        text-align: right;\n",
       "    }\n",
       "</style>\n",
       "<table border=\"1\" class=\"dataframe\">\n",
       "  <thead>\n",
       "    <tr style=\"text-align: right;\">\n",
       "      <th></th>\n",
       "      <th>Region</th>\n",
       "      <th>Manager</th>\n",
       "    </tr>\n",
       "  </thead>\n",
       "  <tbody>\n",
       "    <tr>\n",
       "      <th>0</th>\n",
       "      <td>Central</td>\n",
       "      <td>Chris</td>\n",
       "    </tr>\n",
       "    <tr>\n",
       "      <th>1</th>\n",
       "      <td>West</td>\n",
       "      <td>William</td>\n",
       "    </tr>\n",
       "    <tr>\n",
       "      <th>2</th>\n",
       "      <td>East</td>\n",
       "      <td>Erin</td>\n",
       "    </tr>\n",
       "    <tr>\n",
       "      <th>3</th>\n",
       "      <td>South</td>\n",
       "      <td>Sam</td>\n",
       "    </tr>\n",
       "  </tbody>\n",
       "</table>\n",
       "</div>"
      ],
      "text/plain": [
       "    Region  Manager\n",
       "0  Central    Chris\n",
       "1     West  William\n",
       "2     East     Erin\n",
       "3    South      Sam"
      ]
     },
     "execution_count": 39,
     "metadata": {},
     "output_type": "execute_result"
    }
   ],
   "source": [
    "results_pd.rename(columns = {0:'Region',1:'Manager',2:'Quantity'}, inplace = True)\n",
    "results_pd"
   ]
  },
  {
   "cell_type": "markdown",
   "id": "fbd6a942",
   "metadata": {},
   "source": [
    "# 5 . Try to find out how many unique customer that we have"
   ]
  },
  {
   "cell_type": "code",
   "execution_count": 40,
   "id": "627986af",
   "metadata": {},
   "outputs": [
    {
     "name": "stdout",
     "output_type": "stream",
     "text": [
      "MySQL Database connection successful\n"
     ]
    }
   ],
   "source": [
    "from mysql_database import database\n",
    "query='''select count(distinct `Customer Name`) from Orders'''\n",
    "mydb=database.create_database_connection()\n",
    "results=database.read_query(mydb, query)\n",
    "results_pd=pd.DataFrame(results)"
   ]
  },
  {
   "cell_type": "code",
   "execution_count": 41,
   "id": "9d087e7a",
   "metadata": {},
   "outputs": [
    {
     "data": {
      "text/html": [
       "<div>\n",
       "<style scoped>\n",
       "    .dataframe tbody tr th:only-of-type {\n",
       "        vertical-align: middle;\n",
       "    }\n",
       "\n",
       "    .dataframe tbody tr th {\n",
       "        vertical-align: top;\n",
       "    }\n",
       "\n",
       "    .dataframe thead th {\n",
       "        text-align: right;\n",
       "    }\n",
       "</style>\n",
       "<table border=\"1\" class=\"dataframe\">\n",
       "  <thead>\n",
       "    <tr style=\"text-align: right;\">\n",
       "      <th></th>\n",
       "      <th>Total no of unique Customer</th>\n",
       "    </tr>\n",
       "  </thead>\n",
       "  <tbody>\n",
       "    <tr>\n",
       "      <th>0</th>\n",
       "      <td>2703</td>\n",
       "    </tr>\n",
       "  </tbody>\n",
       "</table>\n",
       "</div>"
      ],
      "text/plain": [
       "   Total no of unique Customer\n",
       "0                         2703"
      ]
     },
     "execution_count": 41,
     "metadata": {},
     "output_type": "execute_result"
    }
   ],
   "source": [
    "results_pd.rename(columns = {0:'Total no of unique Customer'}, inplace = True)\n",
    "results_pd"
   ]
  },
  {
   "cell_type": "markdown",
   "id": "989c291c",
   "metadata": {},
   "source": [
    "# 6 . try to find out in how many regions we are selling a product and who is a manager for a respective region"
   ]
  },
  {
   "cell_type": "code",
   "execution_count": 42,
   "id": "2aa62837",
   "metadata": {},
   "outputs": [
    {
     "name": "stdout",
     "output_type": "stream",
     "text": [
      "MySQL Database connection successful\n"
     ]
    }
   ],
   "source": [
    "from mysql_database import database\n",
    "query='''select distinct users.Region,manager from orders,users where orders.region=users.region'''\n",
    "mydb=database.create_database_connection()\n",
    "results=database.read_query(mydb, query)\n",
    "results_pd=pd.DataFrame(results)"
   ]
  },
  {
   "cell_type": "code",
   "execution_count": 43,
   "id": "fca11df0",
   "metadata": {},
   "outputs": [
    {
     "data": {
      "text/html": [
       "<div>\n",
       "<style scoped>\n",
       "    .dataframe tbody tr th:only-of-type {\n",
       "        vertical-align: middle;\n",
       "    }\n",
       "\n",
       "    .dataframe tbody tr th {\n",
       "        vertical-align: top;\n",
       "    }\n",
       "\n",
       "    .dataframe thead th {\n",
       "        text-align: right;\n",
       "    }\n",
       "</style>\n",
       "<table border=\"1\" class=\"dataframe\">\n",
       "  <thead>\n",
       "    <tr style=\"text-align: right;\">\n",
       "      <th></th>\n",
       "      <th>Region</th>\n",
       "      <th>Manager</th>\n",
       "    </tr>\n",
       "  </thead>\n",
       "  <tbody>\n",
       "    <tr>\n",
       "      <th>0</th>\n",
       "      <td>Central</td>\n",
       "      <td>Chris</td>\n",
       "    </tr>\n",
       "    <tr>\n",
       "      <th>1</th>\n",
       "      <td>West</td>\n",
       "      <td>William</td>\n",
       "    </tr>\n",
       "    <tr>\n",
       "      <th>2</th>\n",
       "      <td>East</td>\n",
       "      <td>Erin</td>\n",
       "    </tr>\n",
       "    <tr>\n",
       "      <th>3</th>\n",
       "      <td>South</td>\n",
       "      <td>Sam</td>\n",
       "    </tr>\n",
       "  </tbody>\n",
       "</table>\n",
       "</div>"
      ],
      "text/plain": [
       "    Region  Manager\n",
       "0  Central    Chris\n",
       "1     West  William\n",
       "2     East     Erin\n",
       "3    South      Sam"
      ]
     },
     "execution_count": 43,
     "metadata": {},
     "output_type": "execute_result"
    }
   ],
   "source": [
    "results_pd.rename(columns = {0:'Region',1:'Manager'}, inplace = True)\n",
    "results_pd"
   ]
  },
  {
   "cell_type": "markdown",
   "id": "cf692cb7",
   "metadata": {},
   "source": [
    "# 7 . find out how many different differnet shipement mode that we have and what is a percentage usablity of all the shipment mode"
   ]
  },
  {
   "cell_type": "code",
   "execution_count": 44,
   "id": "1045fd64",
   "metadata": {},
   "outputs": [
    {
     "name": "stdout",
     "output_type": "stream",
     "text": [
      "MySQL Database connection successful\n"
     ]
    }
   ],
   "source": [
    "from mysql_database import database\n",
    "query='''select `Ship Mode`,(count(*)/9426)*100 from orders group by `Ship Mode`'''\n",
    "mydb=database.create_database_connection()\n",
    "results=database.read_query(mydb, query)\n",
    "results_pd=pd.DataFrame(results)"
   ]
  },
  {
   "cell_type": "code",
   "execution_count": 45,
   "id": "14d78ba9",
   "metadata": {},
   "outputs": [
    {
     "data": {
      "text/html": [
       "<div>\n",
       "<style scoped>\n",
       "    .dataframe tbody tr th:only-of-type {\n",
       "        vertical-align: middle;\n",
       "    }\n",
       "\n",
       "    .dataframe tbody tr th {\n",
       "        vertical-align: top;\n",
       "    }\n",
       "\n",
       "    .dataframe thead th {\n",
       "        text-align: right;\n",
       "    }\n",
       "</style>\n",
       "<table border=\"1\" class=\"dataframe\">\n",
       "  <thead>\n",
       "    <tr style=\"text-align: right;\">\n",
       "      <th></th>\n",
       "      <th>Ship Mode</th>\n",
       "      <th>usablity</th>\n",
       "    </tr>\n",
       "  </thead>\n",
       "  <tbody>\n",
       "    <tr>\n",
       "      <th>0</th>\n",
       "      <td>Regular Air</td>\n",
       "      <td>74.6446</td>\n",
       "    </tr>\n",
       "    <tr>\n",
       "      <th>1</th>\n",
       "      <td>Express Air</td>\n",
       "      <td>11.7441</td>\n",
       "    </tr>\n",
       "    <tr>\n",
       "      <th>2</th>\n",
       "      <td>Delivery Truck</td>\n",
       "      <td>13.6113</td>\n",
       "    </tr>\n",
       "  </tbody>\n",
       "</table>\n",
       "</div>"
      ],
      "text/plain": [
       "        Ship Mode usablity\n",
       "0     Regular Air  74.6446\n",
       "1     Express Air  11.7441\n",
       "2  Delivery Truck  13.6113"
      ]
     },
     "execution_count": 45,
     "metadata": {},
     "output_type": "execute_result"
    }
   ],
   "source": [
    "results_pd.rename(columns = {0:'Ship Mode',1:'usablity'}, inplace = True)\n",
    "results_pd"
   ]
  },
  {
   "cell_type": "markdown",
   "id": "fd728929",
   "metadata": {},
   "source": [
    "# 8 . Create a new coulmn and try to find our a diffrence between order date and shipment date"
   ]
  },
  {
   "cell_type": "code",
   "execution_count": 47,
   "id": "3435fc37",
   "metadata": {},
   "outputs": [
    {
     "name": "stdout",
     "output_type": "stream",
     "text": [
      "MySQL Database connection successful\n",
      "Query executed successfully...\n"
     ]
    }
   ],
   "source": [
    "from mysql_database import database\n",
    "query='''alter table orders add column Diff_Days integer'''\n",
    "mydb=database.create_database_connection()\n",
    "database.execute_query(mydb, query)\n"
   ]
  },
  {
   "cell_type": "markdown",
   "id": "bd29d1f8",
   "metadata": {},
   "source": [
    "# 9 . base on question number 8 find out for which order id we have shipment duration more than 10 days"
   ]
  },
  {
   "cell_type": "code",
   "execution_count": 7,
   "id": "eb99342b",
   "metadata": {},
   "outputs": [],
   "source": [
    "query='''select `Order ID`,Diff_Days from orders where Diff_Days>10'''\n",
    "results=database.read_query(mydb, query)\n",
    "results_pd=pd.DataFrame(results)"
   ]
  },
  {
   "cell_type": "code",
   "execution_count": 9,
   "id": "9abd862e",
   "metadata": {},
   "outputs": [
    {
     "data": {
      "text/html": [
       "<div>\n",
       "<style scoped>\n",
       "    .dataframe tbody tr th:only-of-type {\n",
       "        vertical-align: middle;\n",
       "    }\n",
       "\n",
       "    .dataframe tbody tr th {\n",
       "        vertical-align: top;\n",
       "    }\n",
       "\n",
       "    .dataframe thead th {\n",
       "        text-align: right;\n",
       "    }\n",
       "</style>\n",
       "<table border=\"1\" class=\"dataframe\">\n",
       "  <thead>\n",
       "    <tr style=\"text-align: right;\">\n",
       "      <th></th>\n",
       "      <th>Order ID</th>\n",
       "      <th>Diff_Days</th>\n",
       "    </tr>\n",
       "  </thead>\n",
       "  <tbody>\n",
       "    <tr>\n",
       "      <th>0</th>\n",
       "      <td>87215</td>\n",
       "      <td>84</td>\n",
       "    </tr>\n",
       "    <tr>\n",
       "      <th>1</th>\n",
       "      <td>86318</td>\n",
       "      <td>11</td>\n",
       "    </tr>\n",
       "    <tr>\n",
       "      <th>2</th>\n",
       "      <td>86318</td>\n",
       "      <td>15</td>\n",
       "    </tr>\n",
       "    <tr>\n",
       "      <th>3</th>\n",
       "      <td>87957</td>\n",
       "      <td>17</td>\n",
       "    </tr>\n",
       "    <tr>\n",
       "      <th>4</th>\n",
       "      <td>87957</td>\n",
       "      <td>11</td>\n",
       "    </tr>\n",
       "    <tr>\n",
       "      <th>5</th>\n",
       "      <td>87957</td>\n",
       "      <td>28</td>\n",
       "    </tr>\n",
       "    <tr>\n",
       "      <th>6</th>\n",
       "      <td>19556</td>\n",
       "      <td>17</td>\n",
       "    </tr>\n",
       "    <tr>\n",
       "      <th>7</th>\n",
       "      <td>19556</td>\n",
       "      <td>11</td>\n",
       "    </tr>\n",
       "    <tr>\n",
       "      <th>8</th>\n",
       "      <td>19556</td>\n",
       "      <td>28</td>\n",
       "    </tr>\n",
       "    <tr>\n",
       "      <th>9</th>\n",
       "      <td>86177</td>\n",
       "      <td>92</td>\n",
       "    </tr>\n",
       "    <tr>\n",
       "      <th>10</th>\n",
       "      <td>88223</td>\n",
       "      <td>14</td>\n",
       "    </tr>\n",
       "    <tr>\n",
       "      <th>11</th>\n",
       "      <td>88352</td>\n",
       "      <td>17</td>\n",
       "    </tr>\n",
       "    <tr>\n",
       "      <th>12</th>\n",
       "      <td>87572</td>\n",
       "      <td>22</td>\n",
       "    </tr>\n",
       "    <tr>\n",
       "      <th>13</th>\n",
       "      <td>91294</td>\n",
       "      <td>24</td>\n",
       "    </tr>\n",
       "    <tr>\n",
       "      <th>14</th>\n",
       "      <td>86434</td>\n",
       "      <td>18</td>\n",
       "    </tr>\n",
       "    <tr>\n",
       "      <th>15</th>\n",
       "      <td>86436</td>\n",
       "      <td>17</td>\n",
       "    </tr>\n",
       "    <tr>\n",
       "      <th>16</th>\n",
       "      <td>86436</td>\n",
       "      <td>19</td>\n",
       "    </tr>\n",
       "    <tr>\n",
       "      <th>17</th>\n",
       "      <td>87300</td>\n",
       "      <td>19</td>\n",
       "    </tr>\n",
       "    <tr>\n",
       "      <th>18</th>\n",
       "      <td>19841</td>\n",
       "      <td>27</td>\n",
       "    </tr>\n",
       "    <tr>\n",
       "      <th>19</th>\n",
       "      <td>19841</td>\n",
       "      <td>31</td>\n",
       "    </tr>\n",
       "    <tr>\n",
       "      <th>20</th>\n",
       "      <td>19841</td>\n",
       "      <td>19</td>\n",
       "    </tr>\n",
       "    <tr>\n",
       "      <th>21</th>\n",
       "      <td>87300</td>\n",
       "      <td>27</td>\n",
       "    </tr>\n",
       "    <tr>\n",
       "      <th>22</th>\n",
       "      <td>87300</td>\n",
       "      <td>31</td>\n",
       "    </tr>\n",
       "  </tbody>\n",
       "</table>\n",
       "</div>"
      ],
      "text/plain": [
       "    Order ID  Diff_Days\n",
       "0      87215         84\n",
       "1      86318         11\n",
       "2      86318         15\n",
       "3      87957         17\n",
       "4      87957         11\n",
       "5      87957         28\n",
       "6      19556         17\n",
       "7      19556         11\n",
       "8      19556         28\n",
       "9      86177         92\n",
       "10     88223         14\n",
       "11     88352         17\n",
       "12     87572         22\n",
       "13     91294         24\n",
       "14     86434         18\n",
       "15     86436         17\n",
       "16     86436         19\n",
       "17     87300         19\n",
       "18     19841         27\n",
       "19     19841         31\n",
       "20     19841         19\n",
       "21     87300         27\n",
       "22     87300         31"
      ]
     },
     "execution_count": 9,
     "metadata": {},
     "output_type": "execute_result"
    }
   ],
   "source": [
    "results_pd.rename(columns = {0:'Order ID',1:'Diff_Days'}, inplace = True)\n",
    "results_pd"
   ]
  },
  {
   "cell_type": "markdown",
   "id": "c07407b5",
   "metadata": {},
   "source": [
    "# 10 Try to find out a list of a returned order which sihpment duration was more then 15 days and find out that region manager as well"
   ]
  },
  {
   "cell_type": "code",
   "execution_count": 10,
   "id": "49b66043",
   "metadata": {},
   "outputs": [],
   "source": [
    "query='''select orders.`Order ID`,orders.Region,Diff_Days,Manager,Status from orders,returns,users where \n",
    "orders.`Order ID`=returns.`Order ID` and orders.Region=users.region and Diff_Days>15'''\n",
    "results=database.read_query(mydb, query)\n",
    "results_pd=pd.DataFrame(results)"
   ]
  },
  {
   "cell_type": "code",
   "execution_count": 12,
   "id": "f2bb34d6",
   "metadata": {},
   "outputs": [
    {
     "data": {
      "text/html": [
       "<div>\n",
       "<style scoped>\n",
       "    .dataframe tbody tr th:only-of-type {\n",
       "        vertical-align: middle;\n",
       "    }\n",
       "\n",
       "    .dataframe tbody tr th {\n",
       "        vertical-align: top;\n",
       "    }\n",
       "\n",
       "    .dataframe thead th {\n",
       "        text-align: right;\n",
       "    }\n",
       "</style>\n",
       "<table border=\"1\" class=\"dataframe\">\n",
       "  <thead>\n",
       "    <tr style=\"text-align: right;\">\n",
       "      <th></th>\n",
       "    </tr>\n",
       "  </thead>\n",
       "  <tbody>\n",
       "  </tbody>\n",
       "</table>\n",
       "</div>"
      ],
      "text/plain": [
       "Empty DataFrame\n",
       "Columns: []\n",
       "Index: []"
      ]
     },
     "execution_count": 12,
     "metadata": {},
     "output_type": "execute_result"
    }
   ],
   "source": [
    "results_pd.rename(columns = {0:'Order ID',1:'Region',2:'Manager',3:'Status'}, inplace = True)\n",
    "results_pd"
   ]
  },
  {
   "cell_type": "markdown",
   "id": "9526dbd8",
   "metadata": {},
   "source": [
    "# 11 . Gorup by region and find out which region is more profitable "
   ]
  },
  {
   "cell_type": "code",
   "execution_count": 13,
   "id": "1f571ab2",
   "metadata": {},
   "outputs": [],
   "source": [
    "query='''select Region,sum(Profit),sum(Sales),sum(`Quantity ordered new`) from orders group by region'''\n",
    "results=database.read_query(mydb, query)\n",
    "results_pd=pd.DataFrame(results)"
   ]
  },
  {
   "cell_type": "code",
   "execution_count": 14,
   "id": "a796e716",
   "metadata": {},
   "outputs": [
    {
     "data": {
      "text/html": [
       "<div>\n",
       "<style scoped>\n",
       "    .dataframe tbody tr th:only-of-type {\n",
       "        vertical-align: middle;\n",
       "    }\n",
       "\n",
       "    .dataframe tbody tr th {\n",
       "        vertical-align: top;\n",
       "    }\n",
       "\n",
       "    .dataframe thead th {\n",
       "        text-align: right;\n",
       "    }\n",
       "</style>\n",
       "<table border=\"1\" class=\"dataframe\">\n",
       "  <thead>\n",
       "    <tr style=\"text-align: right;\">\n",
       "      <th></th>\n",
       "      <th>Region</th>\n",
       "      <th>Profit</th>\n",
       "      <th>Sales</th>\n",
       "      <th>Quantity ordered</th>\n",
       "    </tr>\n",
       "  </thead>\n",
       "  <tbody>\n",
       "    <tr>\n",
       "      <th>0</th>\n",
       "      <td>Central</td>\n",
       "      <td>519825.567067</td>\n",
       "      <td>2540341.62</td>\n",
       "      <td>38083</td>\n",
       "    </tr>\n",
       "    <tr>\n",
       "      <th>1</th>\n",
       "      <td>West</td>\n",
       "      <td>310849.453897</td>\n",
       "      <td>2391438.80</td>\n",
       "      <td>33739</td>\n",
       "    </tr>\n",
       "    <tr>\n",
       "      <th>2</th>\n",
       "      <td>East</td>\n",
       "      <td>377566.186045</td>\n",
       "      <td>2422804.68</td>\n",
       "      <td>34833</td>\n",
       "    </tr>\n",
       "    <tr>\n",
       "      <th>3</th>\n",
       "      <td>South</td>\n",
       "      <td>104201.192420</td>\n",
       "      <td>1597346.22</td>\n",
       "      <td>23409</td>\n",
       "    </tr>\n",
       "  </tbody>\n",
       "</table>\n",
       "</div>"
      ],
      "text/plain": [
       "    Region         Profit       Sales Quantity ordered\n",
       "0  Central  519825.567067  2540341.62            38083\n",
       "1     West  310849.453897  2391438.80            33739\n",
       "2     East  377566.186045  2422804.68            34833\n",
       "3    South  104201.192420  1597346.22            23409"
      ]
     },
     "execution_count": 14,
     "metadata": {},
     "output_type": "execute_result"
    }
   ],
   "source": [
    "results_pd.rename(columns = {0:'Region',1:'Profit',2:'Sales',3:'Quantity ordered'}, inplace = True)\n",
    "results_pd"
   ]
  },
  {
   "cell_type": "markdown",
   "id": "3dce739b",
   "metadata": {},
   "source": [
    "# 12 . Try to find out overalll in which country we are giving more didscount"
   ]
  },
  {
   "cell_type": "code",
   "execution_count": 15,
   "id": "4386cd61",
   "metadata": {},
   "outputs": [],
   "source": [
    "query='''select `State or Province`,max(discount)*100 from orders  \n",
    "where discount*100=(select max(discount)*100 from orders) group by `State or Province`'''\n",
    "results=database.read_query(mydb, query)\n",
    "results_pd=pd.DataFrame(results)"
   ]
  },
  {
   "cell_type": "code",
   "execution_count": 16,
   "id": "f228e982",
   "metadata": {},
   "outputs": [
    {
     "data": {
      "text/html": [
       "<div>\n",
       "<style scoped>\n",
       "    .dataframe tbody tr th:only-of-type {\n",
       "        vertical-align: middle;\n",
       "    }\n",
       "\n",
       "    .dataframe tbody tr th {\n",
       "        vertical-align: top;\n",
       "    }\n",
       "\n",
       "    .dataframe thead th {\n",
       "        text-align: right;\n",
       "    }\n",
       "</style>\n",
       "<table border=\"1\" class=\"dataframe\">\n",
       "  <thead>\n",
       "    <tr style=\"text-align: right;\">\n",
       "      <th></th>\n",
       "      <th>State or Province</th>\n",
       "      <th>Discount</th>\n",
       "    </tr>\n",
       "  </thead>\n",
       "  <tbody>\n",
       "    <tr>\n",
       "      <th>0</th>\n",
       "      <td>Illinois</td>\n",
       "      <td>25.0</td>\n",
       "    </tr>\n",
       "  </tbody>\n",
       "</table>\n",
       "</div>"
      ],
      "text/plain": [
       "  State or Province  Discount\n",
       "0          Illinois      25.0"
      ]
     },
     "execution_count": 16,
     "metadata": {},
     "output_type": "execute_result"
    }
   ],
   "source": [
    "results_pd.rename(columns = {0:'State or Province',1:'Discount'}, inplace = True)\n",
    "results_pd"
   ]
  },
  {
   "cell_type": "markdown",
   "id": "2b8b4e50",
   "metadata": {},
   "source": [
    "# 13 . Give me a list of unique postal code"
   ]
  },
  {
   "cell_type": "code",
   "execution_count": 17,
   "id": "8f6723ce",
   "metadata": {},
   "outputs": [],
   "source": [
    "query='''select distinct `Postal Code` from orders'''\n",
    "results=database.read_query(mydb, query)\n",
    "results_pd=pd.DataFrame(results)"
   ]
  },
  {
   "cell_type": "code",
   "execution_count": 18,
   "id": "3415f295",
   "metadata": {},
   "outputs": [
    {
     "data": {
      "text/html": [
       "<div>\n",
       "<style scoped>\n",
       "    .dataframe tbody tr th:only-of-type {\n",
       "        vertical-align: middle;\n",
       "    }\n",
       "\n",
       "    .dataframe tbody tr th {\n",
       "        vertical-align: top;\n",
       "    }\n",
       "\n",
       "    .dataframe thead th {\n",
       "        text-align: right;\n",
       "    }\n",
       "</style>\n",
       "<table border=\"1\" class=\"dataframe\">\n",
       "  <thead>\n",
       "    <tr style=\"text-align: right;\">\n",
       "      <th></th>\n",
       "      <th>Postal Code</th>\n",
       "    </tr>\n",
       "  </thead>\n",
       "  <tbody>\n",
       "    <tr>\n",
       "      <th>0</th>\n",
       "      <td>60101</td>\n",
       "    </tr>\n",
       "    <tr>\n",
       "      <th>1</th>\n",
       "      <td>98221</td>\n",
       "    </tr>\n",
       "    <tr>\n",
       "      <th>2</th>\n",
       "      <td>91776</td>\n",
       "    </tr>\n",
       "    <tr>\n",
       "      <th>3</th>\n",
       "      <td>95123</td>\n",
       "    </tr>\n",
       "    <tr>\n",
       "      <th>4</th>\n",
       "      <td>2724</td>\n",
       "    </tr>\n",
       "    <tr>\n",
       "      <th>...</th>\n",
       "      <td>...</td>\n",
       "    </tr>\n",
       "    <tr>\n",
       "      <th>1692</th>\n",
       "      <td>6820</td>\n",
       "    </tr>\n",
       "    <tr>\n",
       "      <th>1693</th>\n",
       "      <td>60014</td>\n",
       "    </tr>\n",
       "    <tr>\n",
       "      <th>1694</th>\n",
       "      <td>61832</td>\n",
       "    </tr>\n",
       "    <tr>\n",
       "      <th>1695</th>\n",
       "      <td>62521</td>\n",
       "    </tr>\n",
       "    <tr>\n",
       "      <th>1696</th>\n",
       "      <td>26554</td>\n",
       "    </tr>\n",
       "  </tbody>\n",
       "</table>\n",
       "<p>1697 rows × 1 columns</p>\n",
       "</div>"
      ],
      "text/plain": [
       "      Postal Code\n",
       "0           60101\n",
       "1           98221\n",
       "2           91776\n",
       "3           95123\n",
       "4            2724\n",
       "...           ...\n",
       "1692         6820\n",
       "1693        60014\n",
       "1694        61832\n",
       "1695        62521\n",
       "1696        26554\n",
       "\n",
       "[1697 rows x 1 columns]"
      ]
     },
     "execution_count": 18,
     "metadata": {},
     "output_type": "execute_result"
    }
   ],
   "source": [
    "results_pd.rename(columns = {0:'Postal Code'}, inplace = True)\n",
    "results_pd"
   ]
  },
  {
   "cell_type": "markdown",
   "id": "b7229e76",
   "metadata": {},
   "source": [
    "# 14 . which customer segement is more profitalble find it out ."
   ]
  },
  {
   "cell_type": "code",
   "execution_count": 19,
   "id": "32962fc2",
   "metadata": {},
   "outputs": [],
   "source": [
    "query='''select `Customer Segment`,sum(profit) from orders group by `Customer Segment`'''\n",
    "results=database.read_query(mydb, query)\n",
    "results_pd=pd.DataFrame(results)"
   ]
  },
  {
   "cell_type": "code",
   "execution_count": 20,
   "id": "31b11c59",
   "metadata": {},
   "outputs": [
    {
     "data": {
      "text/html": [
       "<div>\n",
       "<style scoped>\n",
       "    .dataframe tbody tr th:only-of-type {\n",
       "        vertical-align: middle;\n",
       "    }\n",
       "\n",
       "    .dataframe tbody tr th {\n",
       "        vertical-align: top;\n",
       "    }\n",
       "\n",
       "    .dataframe thead th {\n",
       "        text-align: right;\n",
       "    }\n",
       "</style>\n",
       "<table border=\"1\" class=\"dataframe\">\n",
       "  <thead>\n",
       "    <tr style=\"text-align: right;\">\n",
       "      <th></th>\n",
       "      <th>Customer Segment</th>\n",
       "      <th>Profit</th>\n",
       "    </tr>\n",
       "  </thead>\n",
       "  <tbody>\n",
       "    <tr>\n",
       "      <th>0</th>\n",
       "      <td>Corporate</td>\n",
       "      <td>505538.627783</td>\n",
       "    </tr>\n",
       "    <tr>\n",
       "      <th>1</th>\n",
       "      <td>Home Office</td>\n",
       "      <td>283869.553814</td>\n",
       "    </tr>\n",
       "    <tr>\n",
       "      <th>2</th>\n",
       "      <td>Small Business</td>\n",
       "      <td>316474.592482</td>\n",
       "    </tr>\n",
       "    <tr>\n",
       "      <th>3</th>\n",
       "      <td>Consumer</td>\n",
       "      <td>206559.625348</td>\n",
       "    </tr>\n",
       "  </tbody>\n",
       "</table>\n",
       "</div>"
      ],
      "text/plain": [
       "  Customer Segment         Profit\n",
       "0        Corporate  505538.627783\n",
       "1      Home Office  283869.553814\n",
       "2   Small Business  316474.592482\n",
       "3         Consumer  206559.625348"
      ]
     },
     "execution_count": 20,
     "metadata": {},
     "output_type": "execute_result"
    }
   ],
   "source": [
    "results_pd.rename(columns = {0:'Customer Segment',1:'Profit'}, inplace = True)\n",
    "results_pd"
   ]
  },
  {
   "cell_type": "markdown",
   "id": "932a31ef",
   "metadata": {},
   "source": [
    "# 15 . try to find out the 10th most loss making product catagory ."
   ]
  },
  {
   "cell_type": "code",
   "execution_count": 21,
   "id": "23bd3626",
   "metadata": {},
   "outputs": [],
   "source": [
    "query='''select `Product Category`,sum(Profit_Margin) from orders group by `Product Category` \n",
    "order by sum(Profit_Margin) LIMIT 1'''\n",
    "results=database.read_query(mydb, query)\n",
    "results_pd=pd.DataFrame(results)"
   ]
  },
  {
   "cell_type": "code",
   "execution_count": 22,
   "id": "c2f9ab7a",
   "metadata": {},
   "outputs": [
    {
     "data": {
      "text/html": [
       "<div>\n",
       "<style scoped>\n",
       "    .dataframe tbody tr th:only-of-type {\n",
       "        vertical-align: middle;\n",
       "    }\n",
       "\n",
       "    .dataframe tbody tr th {\n",
       "        vertical-align: top;\n",
       "    }\n",
       "\n",
       "    .dataframe thead th {\n",
       "        text-align: right;\n",
       "    }\n",
       "</style>\n",
       "<table border=\"1\" class=\"dataframe\">\n",
       "  <thead>\n",
       "    <tr style=\"text-align: right;\">\n",
       "      <th></th>\n",
       "      <th>Product Category</th>\n",
       "      <th>Profit_Margin</th>\n",
       "    </tr>\n",
       "  </thead>\n",
       "  <tbody>\n",
       "    <tr>\n",
       "      <th>0</th>\n",
       "      <td>Office Supplies</td>\n",
       "      <td>-111320.452758</td>\n",
       "    </tr>\n",
       "  </tbody>\n",
       "</table>\n",
       "</div>"
      ],
      "text/plain": [
       "  Product Category  Profit_Margin\n",
       "0  Office Supplies -111320.452758"
      ]
     },
     "execution_count": 22,
     "metadata": {},
     "output_type": "execute_result"
    }
   ],
   "source": [
    "results_pd.rename(columns = {0:'Product Category',1:'Profit_Margin'}, inplace = True)\n",
    "results_pd"
   ]
  },
  {
   "cell_type": "markdown",
   "id": "5d2fca3c",
   "metadata": {},
   "source": [
    "# 16 . Try to find out 10 top product with highest margins"
   ]
  },
  {
   "cell_type": "code",
   "execution_count": 23,
   "id": "e749e10b",
   "metadata": {},
   "outputs": [],
   "source": [
    "query=''' select `Product Name`,sum(Profit_Margin) from orders group by `Product Name` \n",
    "order by sum(Profit_Margin) desc LIMIT 10'''\n",
    "results=database.read_query(mydb, query)\n",
    "results_pd=pd.DataFrame(results)"
   ]
  },
  {
   "cell_type": "code",
   "execution_count": 24,
   "id": "cc0c9440",
   "metadata": {},
   "outputs": [
    {
     "data": {
      "text/html": [
       "<div>\n",
       "<style scoped>\n",
       "    .dataframe tbody tr th:only-of-type {\n",
       "        vertical-align: middle;\n",
       "    }\n",
       "\n",
       "    .dataframe tbody tr th {\n",
       "        vertical-align: top;\n",
       "    }\n",
       "\n",
       "    .dataframe thead th {\n",
       "        text-align: right;\n",
       "    }\n",
       "</style>\n",
       "<table border=\"1\" class=\"dataframe\">\n",
       "  <thead>\n",
       "    <tr style=\"text-align: right;\">\n",
       "      <th></th>\n",
       "      <th>Product Name</th>\n",
       "      <th>Profit_Margin</th>\n",
       "    </tr>\n",
       "  </thead>\n",
       "  <tbody>\n",
       "    <tr>\n",
       "      <th>0</th>\n",
       "      <td>Avery White Multi-Purpose Labels</td>\n",
       "      <td>99949.179470</td>\n",
       "    </tr>\n",
       "    <tr>\n",
       "      <th>1</th>\n",
       "      <td>Rediform S.O.S. Phone Message Books</td>\n",
       "      <td>75693.907998</td>\n",
       "    </tr>\n",
       "    <tr>\n",
       "      <th>2</th>\n",
       "      <td>Avery 506</td>\n",
       "      <td>20936.706212</td>\n",
       "    </tr>\n",
       "    <tr>\n",
       "      <th>3</th>\n",
       "      <td>Telephone Message Books with Fax/Mobile Sectio...</td>\n",
       "      <td>17960.194899</td>\n",
       "    </tr>\n",
       "    <tr>\n",
       "      <th>4</th>\n",
       "      <td>Avery 501</td>\n",
       "      <td>13676.074214</td>\n",
       "    </tr>\n",
       "    <tr>\n",
       "      <th>5</th>\n",
       "      <td>Avery 51</td>\n",
       "      <td>11879.854477</td>\n",
       "    </tr>\n",
       "    <tr>\n",
       "      <th>6</th>\n",
       "      <td>Plymouth Boxed Rubber Bands by Plymouth</td>\n",
       "      <td>10485.428178</td>\n",
       "    </tr>\n",
       "    <tr>\n",
       "      <th>7</th>\n",
       "      <td>Xerox 1981</td>\n",
       "      <td>9914.039824</td>\n",
       "    </tr>\n",
       "    <tr>\n",
       "      <th>8</th>\n",
       "      <td>Staples 4 Outlet Surge Protector</td>\n",
       "      <td>9592.155970</td>\n",
       "    </tr>\n",
       "    <tr>\n",
       "      <th>9</th>\n",
       "      <td>GBC Plastic Binding Combs</td>\n",
       "      <td>9095.879457</td>\n",
       "    </tr>\n",
       "  </tbody>\n",
       "</table>\n",
       "</div>"
      ],
      "text/plain": [
       "                                        Product Name  Profit_Margin\n",
       "0                   Avery White Multi-Purpose Labels   99949.179470\n",
       "1                Rediform S.O.S. Phone Message Books   75693.907998\n",
       "2                                          Avery 506   20936.706212\n",
       "3  Telephone Message Books with Fax/Mobile Sectio...   17960.194899\n",
       "4                                          Avery 501   13676.074214\n",
       "5                                           Avery 51   11879.854477\n",
       "6            Plymouth Boxed Rubber Bands by Plymouth   10485.428178\n",
       "7                                         Xerox 1981    9914.039824\n",
       "8                   Staples 4 Outlet Surge Protector    9592.155970\n",
       "9                          GBC Plastic Binding Combs    9095.879457"
      ]
     },
     "execution_count": 24,
     "metadata": {},
     "output_type": "execute_result"
    }
   ],
   "source": [
    "results_pd.rename(columns = {0:'Product Name',1:'Profit_Margin'}, inplace = True)\n",
    "results_pd"
   ]
  },
  {
   "cell_type": "code",
   "execution_count": null,
   "id": "2d5d4535",
   "metadata": {},
   "outputs": [],
   "source": []
  }
 ],
 "metadata": {
  "kernelspec": {
   "display_name": "Python 3 (ipykernel)",
   "language": "python",
   "name": "python3"
  },
  "language_info": {
   "codemirror_mode": {
    "name": "ipython",
    "version": 3
   },
   "file_extension": ".py",
   "mimetype": "text/x-python",
   "name": "python",
   "nbconvert_exporter": "python",
   "pygments_lexer": "ipython3",
   "version": "3.9.7"
  }
 },
 "nbformat": 4,
 "nbformat_minor": 5
}
